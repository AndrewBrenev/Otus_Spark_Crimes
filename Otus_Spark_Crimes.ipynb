{
 "cells": [
  {
   "cell_type": "code",
   "execution_count": 1,
   "id": "18c4062c",
   "metadata": {},
   "outputs": [],
   "source": [
    "# Подключим нужные библиотеки\n",
    "\n",
    "import pyspark\n",
    "from pyspark.sql import SparkSession\n",
    "from pyspark.sql import functions as F\n",
    "from pyspark.sql.window import Window"
   ]
  },
  {
   "cell_type": "code",
   "execution_count": 2,
   "id": "584c6cd2",
   "metadata": {},
   "outputs": [],
   "source": [
    "import os\n",
    "\n",
    "os.environ[\"SPARK_HOME\"] = 'C:\\Program Files\\spark-3.5.2-bin-hadoop3'"
   ]
  },
  {
   "cell_type": "code",
   "execution_count": 3,
   "id": "064f6788",
   "metadata": {},
   "outputs": [
    {
     "name": "stdout",
     "output_type": "stream",
     "text": [
      "+----------------+\n",
      "|spark is running|\n",
      "+----------------+\n",
      "|spark is running|\n",
      "+----------------+\n",
      "\n"
     ]
    }
   ],
   "source": [
    "#Создадим сессию\n",
    "\n",
    "spark = SparkSession.builder.appName(\"Crime Analysis\").getOrCreate()\n",
    "\n",
    "df = spark.sql(\"select 'spark is running'\")\n",
    "\n",
    "df.show()"
   ]
  },
  {
   "cell_type": "code",
   "execution_count": 5,
   "id": "ee4555f3",
   "metadata": {},
   "outputs": [],
   "source": [
    "# Загружаем DataFrame из crime.csv и offense_codes.csv\n",
    "\n",
    "df = spark.read.csv(\"data/crime.csv\", header=True, sep=\",\", inferSchema=True)\n",
    "\n",
    "offense_codes = spark.read.csv(\"data/offense_codes.csv\", header=True, sep=\",\", inferSchema=True)"
   ]
  },
  {
   "cell_type": "code",
   "execution_count": 11,
   "id": "2247af59",
   "metadata": {},
   "outputs": [
    {
     "name": "stdout",
     "output_type": "stream",
     "text": [
      "root\n",
      " |-- INCIDENT_NUMBER: string (nullable = true)\n",
      " |-- OFFENSE_CODE: integer (nullable = true)\n",
      " |-- OFFENSE_CODE_GROUP: string (nullable = true)\n",
      " |-- OFFENSE_DESCRIPTION: string (nullable = true)\n",
      " |-- DISTRICT: string (nullable = true)\n",
      " |-- REPORTING_AREA: string (nullable = true)\n",
      " |-- SHOOTING: string (nullable = true)\n",
      " |-- OCCURRED_ON_DATE: timestamp (nullable = true)\n",
      " |-- YEAR: integer (nullable = true)\n",
      " |-- MONTH: integer (nullable = true)\n",
      " |-- DAY_OF_WEEK: string (nullable = true)\n",
      " |-- HOUR: integer (nullable = true)\n",
      " |-- UCR_PART: string (nullable = true)\n",
      " |-- STREET: string (nullable = true)\n",
      " |-- Lat: double (nullable = true)\n",
      " |-- Long: double (nullable = true)\n",
      " |-- Location: string (nullable = true)\n",
      "\n",
      "root\n",
      " |-- CODE: integer (nullable = true)\n",
      " |-- NAME: string (nullable = true)\n",
      "\n"
     ]
    }
   ],
   "source": [
    "# Посмотрим схему полученных данных\n",
    "\n",
    "df.printSchema()\n",
    "\n",
    "offense_codes.printSchema()"
   ]
  },
  {
   "cell_type": "code",
   "execution_count": 79,
   "id": "b78d03c8",
   "metadata": {},
   "outputs": [],
   "source": [
    "# Выполним очистку данных\n",
    "\n",
    "# Удалим дубли по INCIDENT_NUMBER\n",
    "df_cleaned = df.dropDuplicates([\"INCIDENT_NUMBER\"])\n",
    "\n",
    "# Удаление записей, где не указан район или код преступления\n",
    "df_cleaned = df_cleaned.filter(df.OFFENSE_CODE.isNotNull() & df.DISTRICT.isNotNull())\n",
    "\n",
    "# Оставим уникальные коды преступлений\n",
    "unique_offense_codes = offense_codes.dropDuplicates([\"CODE\"])"
   ]
  },
  {
   "cell_type": "code",
   "execution_count": 27,
   "id": "c8af3444",
   "metadata": {},
   "outputs": [],
   "source": [
    "# Выполним необходимые для витрины вычисления\n",
    "# 1. Агрегируем данные о преступлениях по районам\n",
    "\n",
    "crimes_total = df_cleaned.groupBy(\"DISTRICT\").agg(F.count(\"*\").alias(\"crimes_total\"))"
   ]
  },
  {
   "cell_type": "code",
   "execution_count": 34,
   "id": "e102ef6b",
   "metadata": {},
   "outputs": [],
   "source": [
    "# 2. Медиана числа преступлений в месяц, группировка по DISTRICT, YEAR и MONTH\n",
    "\n",
    "monthly_crimes_count = df_cleaned.groupBy(\"DISTRICT\", \"YEAR\", \"MONTH\").agg(F.count(\"*\").alias(\"monthly_crimes\"))\n",
    "crimes_monthly = monthly_crimes_count.groupBy(\"DISTRICT\").agg(\n",
    "    F.percentile_approx(\"monthly_crimes\", 0.5).alias(\"crimes_monthly\")\n",
    ")"
   ]
  },
  {
   "cell_type": "code",
   "execution_count": 65,
   "id": "b98b48f9",
   "metadata": {},
   "outputs": [],
   "source": [
    "# 3. Три самых частых типа преступлений\n",
    "\n",
    "#Покаждому району, проранжируем преступления\n",
    "frequent_crime_types = (\n",
    "    df_cleaned.groupBy(\"DISTRICT\", \"OFFENSE_CODE\")\n",
    "      .agg(F.count(\"*\").alias(\"count\"))\n",
    "      .withColumn(\"rank\", F.row_number().over(Window.partitionBy(\"DISTRICT\").orderBy(F.desc(\"count\"))))\n",
    "      .filter(F.col(\"rank\") <= 3)\n",
    ")\n",
    "\n",
    "#Вычислим первое наименование предступления, до -\n",
    "unique_offense_codes_first = unique_offense_codes.withColumn(\"crime_type\", F.split(F.col(\"NAME\"), \" -\").getItem(0))\n",
    "\n",
    "#Соеденим полученные выборки\n",
    "frequent_crime_types = frequent_crime_types.join(unique_offense_codes_first,\n",
    "                                                 frequent_crime_types.OFFENSE_CODE == unique_offense_codes_first.CODE,\n",
    "                                                \"inner\")\n",
    "\n",
    "# Объединяем типы преступлений в строку\n",
    "frequent_crime_types_aggregated = frequent_crime_types.groupBy(\"DISTRICT\").agg(\n",
    "    F.concat_ws(\", \", F.collect_list(\"crime_type\")).alias(\"frequent_crime_types\")\n",
    ")"
   ]
  },
  {
   "cell_type": "code",
   "execution_count": 68,
   "id": "c4865d38",
   "metadata": {},
   "outputs": [],
   "source": [
    "# 4. Средние координаты по районам\n",
    "\n",
    "avg_coordinates = df_cleaned.groupBy(\"DISTRICT\").agg(\n",
    "    F.avg(\"Lat\").alias(\"lat\"),\n",
    "    F.avg(\"Long\").alias(\"lng\")\n",
    ")"
   ]
  },
  {
   "cell_type": "code",
   "execution_count": 69,
   "id": "02bf314b",
   "metadata": {},
   "outputs": [
    {
     "name": "stdout",
     "output_type": "stream",
     "text": [
      "+--------+------------+--------------+--------------------+------------------+------------------+\n",
      "|DISTRICT|crimes_total|crimes_monthly|frequent_crime_types|               lat|               lng|\n",
      "+--------+------------+--------------+--------------------+------------------+------------------+\n",
      "|      A1|       31020|           771|PROPERTY, ASSAULT...| 42.33064855453012|-71.01857752144772|\n",
      "|     A15|        5978|           149|INVESTIGATE PERSO...|42.185067945255426|-70.75409373619097|\n",
      "|      A7|       12306|           315|SICK/INJURED/MEDI...| 42.36280267789223|-71.00707817700778|\n",
      "|      B2|       43403|          1130|VERBAL DISPUTE, M...| 42.31632986119105|-71.07629096717075|\n",
      "|      B3|       31131|           800|VERBAL DISPUTE, I...|42.282453248040255|-71.07814828507321|\n",
      "|     C11|       37298|           979|M/V, SICK/INJURED...|42.294000306038015|-71.05347358106056|\n",
      "|      C6|       21196|           543|SICK/INJURED/MEDI...| 42.21490686409826|-70.85942538777124|\n",
      "|     D14|       18573|           466|TOWED MOTOR VEHIC...|42.342901024460595|-71.13041388999909|\n",
      "|      D4|       36755|           970|LARCENY SHOPLIFTI...|42.341148104205374|-71.07690743408861|\n",
      "|     E13|       15652|           397|SICK/INJURED/MEDI...| 42.30901127492192|-71.09714168641041|\n",
      "|     E18|       15746|           399|SICK/INJURED/MEDI...|42.262495312650124|   -71.11898414635|\n",
      "|      E5|       11876|           304|SICK/INJURED/MEDI...|42.199843485276354|-71.00724221225452|\n",
      "+--------+------------+--------------+--------------------+------------------+------------------+\n",
      "\n"
     ]
    }
   ],
   "source": [
    "# Объединяем данные по полю DISTRICT\n",
    "\n",
    "final_df = (crimes_total\n",
    "             .join(crimes_monthly, \"DISTRICT\")\n",
    "             .join(frequent_crime_types_aggregated, \"DISTRICT\")\n",
    "             .join(avg_coordinates, \"DISTRICT\"))\n",
    "\n",
    "# Показать результат\n",
    "final_df.show()"
   ]
  },
  {
   "cell_type": "code",
   "execution_count": null,
   "id": "1f337b90",
   "metadata": {},
   "outputs": [],
   "source": [
    "# Преобразуем в Pandas DataFrame и сохраняем в формате Parquet\n",
    "output_path = \"path/to/output_folder/crime_dashboard.parquet\"\n",
    "final_df.toPandas().to_parquet(output_path, index=False)\n",
    "\n",
    "spark.stop()"
   ]
  }
 ],
 "metadata": {
  "kernelspec": {
   "display_name": "Python 3 (ipykernel)",
   "language": "python",
   "name": "python3"
  },
  "language_info": {
   "codemirror_mode": {
    "name": "ipython",
    "version": 3
   },
   "file_extension": ".py",
   "mimetype": "text/x-python",
   "name": "python",
   "nbconvert_exporter": "python",
   "pygments_lexer": "ipython3",
   "version": "3.11.4"
  }
 },
 "nbformat": 4,
 "nbformat_minor": 5
}
